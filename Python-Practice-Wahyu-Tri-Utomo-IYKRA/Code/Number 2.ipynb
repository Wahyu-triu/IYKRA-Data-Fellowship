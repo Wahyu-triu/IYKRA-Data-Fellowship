{
 "cells": [
  {
   "cell_type": "code",
   "execution_count": 1,
   "id": "6d5af621",
   "metadata": {},
   "outputs": [
    {
     "name": "stdout",
     "output_type": "stream",
     "text": [
      "2.6.0\n"
     ]
    }
   ],
   "source": [
    "#create a database\n",
    "import sqlite3\n",
    "from sqlite3 import Error\n",
    "\n",
    "\n",
    "def create_connection(db_file):\n",
    "    conn = None\n",
    "    try:\n",
    "        conn = sqlite3.connect(db_file)\n",
    "        print(sqlite3.version)\n",
    "    except Error as e:\n",
    "        print(e)\n",
    "    finally:\n",
    "        if conn:\n",
    "            conn.close()\n",
    "\n",
    "\n",
    "if __name__ == '__main__':\n",
    "    create_connection(r\"D:\\sqlite\\db\\pythonsqlite2.db\")"
   ]
  },
  {
   "cell_type": "code",
   "execution_count": 2,
   "id": "a36b320e",
   "metadata": {},
   "outputs": [],
   "source": [
    "#develop connection function\n",
    "def create_connection(file):\n",
    "    conn = None\n",
    "    try:\n",
    "        conn = sqlite3.connect(file)\n",
    "        return conn\n",
    "    except Error as e:\n",
    "        print(e)\n",
    "    return conn"
   ]
  },
  {
   "cell_type": "code",
   "execution_count": 3,
   "id": "719b9e86",
   "metadata": {},
   "outputs": [],
   "source": [
    "#develop a create_table function\n",
    "def create_table(conn, create_table):\n",
    "    try:\n",
    "        c = conn.cursor()\n",
    "        c.execute(create_table)\n",
    "    except Error as e:\n",
    "        print(e)"
   ]
  },
  {
   "cell_type": "code",
   "execution_count": 4,
   "id": "768bad8c",
   "metadata": {},
   "outputs": [
    {
     "name": "stdout",
     "output_type": "stream",
     "text": [
      "table sale already exists\n"
     ]
    }
   ],
   "source": [
    "#create main function to create table\n",
    "def main():\n",
    "    database = r\"D:\\sqlite\\db\\pythonsqlite2.db\"\n",
    "\n",
    "    sales_table = \"\"\" CREATE TABLE sale (\n",
    "                                        date datetime,\n",
    "                                        sales integer\n",
    "                                    ); \"\"\"\n",
    "    \n",
    "    # create a database connection\n",
    "    conn = create_connection(database)\n",
    "\n",
    "    # create tables\n",
    "    if conn is not None:\n",
    "        create_table(conn, sales_table)\n",
    "    else:\n",
    "        print(\"Error\")\n",
    "\n",
    "#execute the main function\n",
    "if __name__ == '__main__':\n",
    "    main()"
   ]
  },
  {
   "cell_type": "code",
   "execution_count": 5,
   "id": "1ac2eb33",
   "metadata": {},
   "outputs": [],
   "source": [
    "#create a function to insert data in transaction table\n",
    "def insert_sales(conn, sale):\n",
    "    sql = ''' INSERT INTO sale(date, sales)\n",
    "              VALUES(?,?) '''\n",
    "    cur = conn.cursor()\n",
    "    cur.execute(sql, sale)\n",
    "    conn.commit()\n",
    "    return cur.lastrowid"
   ]
  },
  {
   "cell_type": "code",
   "execution_count": 6,
   "id": "3efbb5a3",
   "metadata": {},
   "outputs": [],
   "source": [
    "from datetime import *"
   ]
  },
  {
   "cell_type": "code",
   "execution_count": 7,
   "id": "be778cd2",
   "metadata": {},
   "outputs": [],
   "source": [
    "#insert sales\n",
    "def main():\n",
    "    database = r\"D:\\sqlite\\db\\pythonsqlite2.db\"\n",
    "\n",
    "    # create a database connection\n",
    "    conn = create_connection(database)\n",
    "    with conn:\n",
    "    # create a new data sales\n",
    "        sales1 = (date(2021, 1, 1), 100)\n",
    "        sales2 = (date(2021, 1, 2), 34)\n",
    "        sales3 = (date(2021, 1, 2), 123)\n",
    "        sales4 = (date(2021, 1, 2), 134)\n",
    "        sales5 = (date(2021, 1, 3), 145)\n",
    "        sales6 = (date(2021, 1, 3), 24)\n",
    "        sales7 = (date(2021, 1, 4), 541)\n",
    "        sales8 = (date(2021, 1, 4), 636)\n",
    "        sales9 = (date(2021, 1, 5), 322)\n",
    "        sales10 = (date(2021, 1, 6), 242)\n",
    "        sales11 = (date(2021, 1, 7), 22)\n",
    "        sales12 = (date(2021, 1, 8), 46)\n",
    "    \n",
    "    #create sales\n",
    "        insert_sales(conn, sales1)\n",
    "        insert_sales(conn, sales2)\n",
    "        insert_sales(conn, sales3)\n",
    "        insert_sales(conn, sales4)\n",
    "        insert_sales(conn, sales5)\n",
    "        insert_sales(conn, sales6)\n",
    "        insert_sales(conn, sales7)\n",
    "        insert_sales(conn, sales8)\n",
    "        insert_sales(conn, sales9)\n",
    "        insert_sales(conn, sales10)\n",
    "        insert_sales(conn, sales11)\n",
    "        insert_sales(conn, sales12)\n",
    "        \n",
    "#execute the main function\n",
    "if __name__ == '__main__':\n",
    "    main()"
   ]
  },
  {
   "cell_type": "code",
   "execution_count": 8,
   "id": "628f9f88",
   "metadata": {},
   "outputs": [],
   "source": [
    "#create delete function\n",
    "#def delete_all_sales(conn):\n",
    "#    sql = 'DELETE FROM sale'\n",
    "#    cur = conn.cursor()\n",
    "#    cur.execute(sql)\n",
    "#    conn.commit()"
   ]
  },
  {
   "cell_type": "code",
   "execution_count": 9,
   "id": "6f863246",
   "metadata": {},
   "outputs": [],
   "source": [
    "#when we want to delete datasales\n",
    "#def main():\n",
    "#    database = r\"D:\\sqlite\\db\\pythonsqlite2.db\"\n",
    "\n",
    "    # create a database connection\n",
    " #   conn = create_connection(database)\n",
    "  #  with conn:\n",
    "   #     delete_all_sales(conn);\n",
    "\n",
    "#execute the main function\n",
    "#if __name__ == '__main__':\n",
    " #   main()"
   ]
  }
 ],
 "metadata": {
  "kernelspec": {
   "display_name": "Python 3",
   "language": "python",
   "name": "python3"
  },
  "language_info": {
   "codemirror_mode": {
    "name": "ipython",
    "version": 3
   },
   "file_extension": ".py",
   "mimetype": "text/x-python",
   "name": "python",
   "nbconvert_exporter": "python",
   "pygments_lexer": "ipython3",
   "version": "3.8.8"
  }
 },
 "nbformat": 4,
 "nbformat_minor": 5
}
