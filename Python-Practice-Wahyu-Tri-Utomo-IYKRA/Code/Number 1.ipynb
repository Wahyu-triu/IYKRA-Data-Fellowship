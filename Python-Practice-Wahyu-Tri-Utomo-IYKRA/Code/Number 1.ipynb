{
 "cells": [
  {
   "cell_type": "code",
   "execution_count": 1,
   "id": "be917d38",
   "metadata": {},
   "outputs": [
    {
     "name": "stdout",
     "output_type": "stream",
     "text": [
      "2.6.0\n"
     ]
    }
   ],
   "source": [
    "#create the database\n",
    "import sqlite3\n",
    "from sqlite3 import Error\n",
    "\n",
    "\n",
    "def create_connection(db_file):\n",
    "    conn = None\n",
    "    try:\n",
    "        conn = sqlite3.connect(db_file)\n",
    "        print(sqlite3.version)\n",
    "    except Error as e:\n",
    "        print(e)\n",
    "    finally:\n",
    "        if conn:\n",
    "            conn.close()\n",
    "\n",
    "\n",
    "if __name__ == '__main__':\n",
    "    create_connection(r\"D:\\sqlite\\db\\pythonsqlite1.db\")"
   ]
  },
  {
   "cell_type": "code",
   "execution_count": 2,
   "id": "6b3bbc2f",
   "metadata": {},
   "outputs": [],
   "source": [
    "#develop connection function\n",
    "def create_connection(file):\n",
    "    conn = None\n",
    "    try:\n",
    "        conn = sqlite3.connect(file)\n",
    "        return conn\n",
    "    except Error as e:\n",
    "        print(e)\n",
    "    return conn"
   ]
  },
  {
   "cell_type": "code",
   "execution_count": 3,
   "id": "230eea12",
   "metadata": {},
   "outputs": [],
   "source": [
    "#develop a create_table function\n",
    "def create_table(conn, create_table):\n",
    "    try:\n",
    "        c = conn.cursor()\n",
    "        c.execute(create_table)\n",
    "    except Error as e:\n",
    "        print(e)"
   ]
  },
  {
   "cell_type": "code",
   "execution_count": 4,
   "id": "c30ac771",
   "metadata": {},
   "outputs": [],
   "source": [
    "#create a function to insert data in transaction table\n",
    "def create_transactions(conn, transactions):\n",
    "    sql = ''' INSERT INTO transactions(id,insert_time,tx_amount,tx_type,status)\n",
    "              VALUES(?,?,?,?,?) '''\n",
    "    cur = conn.cursor()\n",
    "    cur.execute(sql, transactions)\n",
    "    conn.commit()\n",
    "    return cur.lastrowid"
   ]
  },
  {
   "cell_type": "code",
   "execution_count": 5,
   "id": "41bc3078",
   "metadata": {},
   "outputs": [],
   "source": [
    "def update_transactions(conn, transactions):\n",
    "    sql = ''' UPDATE transactions\n",
    "              SET id = ? ,\n",
    "                  insert_time = ? ,\n",
    "                  tx_amount = ? ,\n",
    "                  tx_type = ? ,\n",
    "                  status = ?\n",
    "              WHERE id = ?'''\n",
    "    cur = conn.cursor()\n",
    "    cur.execute(sql, transactions)\n",
    "    conn.commit()"
   ]
  },
  {
   "cell_type": "code",
   "execution_count": 6,
   "id": "76394fa2",
   "metadata": {},
   "outputs": [],
   "source": [
    "#NOTE!!!\n",
    "\n",
    "#if there is a new id transactions using using create_transactions\n",
    "#if there is a upadate transactions from exsiting id, use update_transactions"
   ]
  },
  {
   "cell_type": "code",
   "execution_count": 7,
   "id": "ae0f8e74",
   "metadata": {},
   "outputs": [],
   "source": [
    "def delete_all_transactions(conn):\n",
    "    sql = 'DELETE FROM transactions'\n",
    "    cur = conn.cursor()\n",
    "    cur.execute(sql)\n",
    "    conn.commit()"
   ]
  },
  {
   "cell_type": "code",
   "execution_count": 8,
   "id": "f3f794a1",
   "metadata": {},
   "outputs": [],
   "source": [
    "#create main function to create table\n",
    "def main():\n",
    "    database = r\"D:\\sqlite\\db\\pythonsqlite1.db\"\n",
    "\n",
    "    transactions_table = \"\"\" CREATE TABLE IF NOT EXISTS transactions (\n",
    "                                        id UUID,\n",
    "                                        insert_time timestamp,\n",
    "                                        tx_amount float,\n",
    "                                        tx_type string,\n",
    "                                        status string\n",
    "                                    ); \"\"\"\n",
    "    \n",
    "    # create a database connection\n",
    "    conn = create_connection(database)\n",
    "\n",
    "    # create tables\n",
    "    if conn is not None:\n",
    "        create_table(conn, transactions_table)\n",
    "    else:\n",
    "        print(\"Error\")\n",
    "\n",
    "#execute the main function\n",
    "if __name__ == '__main__':\n",
    "    main()"
   ]
  },
  {
   "cell_type": "code",
   "execution_count": 12,
   "id": "82df7b85",
   "metadata": {},
   "outputs": [],
   "source": [
    "#create time function\n",
    "from datetime import *\n",
    "def times(x):\n",
    "    return(datetime.strptime(x, '%Y-%m-%d %H:%M:%S'))"
   ]
  },
  {
   "cell_type": "code",
   "execution_count": 10,
   "id": "76955329",
   "metadata": {},
   "outputs": [],
   "source": [
    "#describe time\n",
    "t1 = '2021-02-01 22:32:01'\n",
    "t2 = '2021-02-03 21:01:11'\n",
    "t3 = '2021-02-02 20:32:21'\n",
    "t4 = '2021-02-03 19:23:31'\n",
    "t5 = '2021-02-02 08:32:31'"
   ]
  },
  {
   "cell_type": "code",
   "execution_count": 11,
   "id": "2680a174",
   "metadata": {},
   "outputs": [],
   "source": [
    "#insert and update transactions\n",
    "def main():\n",
    "    database = r\"D:\\sqlite\\db\\pythonsqlite1.db\"\n",
    "\n",
    "    # create a database connection\n",
    "    conn = create_connection(database)\n",
    "    with conn:\n",
    "    # create a new data transactions\n",
    "        transactions1 = (1,times(t1),10,'buy','open')\n",
    "        transactions2 = (1,times(t2),20,'sell','close',1)\n",
    "        transactions3 = (2,times(t3),10,'sell','open')\n",
    "        transactions4 = (2,times(t4),20,'buy','close',2)\n",
    "        transactions5 = (3,times(t5),10,'sell','open')\n",
    "    \n",
    "    #create transactions\n",
    "        create_transactions(conn, transactions1)\n",
    "        update_transactions(conn, transactions2)\n",
    "        create_transactions(conn, transactions3)\n",
    "        update_transactions(conn, transactions4)\n",
    "        create_transactions(conn, transactions5)\n",
    "    \n",
    "    #delete transactions\n",
    "    #using it if we want to delete all transactions\n",
    "        #delete_all_transactions(conn);\n",
    "        \n",
    "#execute the main function\n",
    "if __name__ == '__main__':\n",
    "    main()"
   ]
  }
 ],
 "metadata": {
  "kernelspec": {
   "display_name": "Python 3",
   "language": "python",
   "name": "python3"
  },
  "language_info": {
   "codemirror_mode": {
    "name": "ipython",
    "version": 3
   },
   "file_extension": ".py",
   "mimetype": "text/x-python",
   "name": "python",
   "nbconvert_exporter": "python",
   "pygments_lexer": "ipython3",
   "version": "3.8.8"
  }
 },
 "nbformat": 4,
 "nbformat_minor": 5
}
