{
  "nbformat": 4,
  "nbformat_minor": 0,
  "metadata": {
    "anaconda-cloud": {},
    "kernelspec": {
      "display_name": "Python [conda root]",
      "language": "python",
      "name": "conda-root-py"
    },
    "language_info": {
      "codemirror_mode": {
        "name": "ipython",
        "version": 3
      },
      "file_extension": ".py",
      "mimetype": "text/x-python",
      "name": "python",
      "nbconvert_exporter": "python",
      "pygments_lexer": "ipython3",
      "version": "3.5.3"
    },
    "colab": {
      "name": "Spark_DataFrames_Project_Exercise (Data Survivor).ipynb",
      "provenance": [],
      "collapsed_sections": []
    }
  },
  "cells": [
    {
      "cell_type": "markdown",
      "metadata": {
        "id": "LWgjV-Uchcjd"
      },
      "source": [
        "# Data Survivor\n",
        "## Anggota:\n",
        "1. Alexander Patrick Surjono\n",
        "2. Ramzy Mohammad\n",
        "3. Retno Dewi Yulianti\n",
        "4. Stella Linda Cyrilla\n",
        "5. Wahyu Tri Utomo"
      ]
    },
    {
      "cell_type": "markdown",
      "metadata": {
        "id": "-C2D0_b3mz5d"
      },
      "source": [
        "# Spark DataFrames Project Exercise "
      ]
    },
    {
      "cell_type": "markdown",
      "metadata": {
        "id": "H7axQhsdmz5g"
      },
      "source": [
        "Let's get some quick practice with your new Spark DataFrame skills, you will be asked some basic questions about some stock market data, in this case Walmart Stock from the years 2012-2017. This exercise will just ask a bunch of questions, unlike the future machine learning exercises, which will be a little looser and be in the form of \"Consulting Projects\", but more on that later!\n",
        "\n",
        "For now, just answer the questions and complete the tasks below."
      ]
    },
    {
      "cell_type": "markdown",
      "metadata": {
        "id": "dt1iXKo8mz5h"
      },
      "source": [
        "#### Use the walmart_stock.csv file to Answer and complete the  tasks below!"
      ]
    },
    {
      "cell_type": "markdown",
      "metadata": {
        "id": "4XlcVjkSmz5i"
      },
      "source": [
        "#### Start a simple Spark Session"
      ]
    },
    {
      "cell_type": "code",
      "metadata": {
        "id": "Sc62a3lgmz5j",
        "colab": {
          "base_uri": "https://localhost:8080/"
        },
        "outputId": "487871a7-b1ef-4c4d-b843-0da1899057da"
      },
      "source": [
        "# Setting up the PySpark environment\n",
        "\n",
        "# Install java 8\n",
        "!apt-get update\n",
        "!apt-get install openjdk-8-jdk-headless -qq > /dev/null\n",
        "\n",
        "# Download Apache Spark binary: This link can change based on the version. Update this link with the latest version before using\n",
        "!wget -q https://downloads.apache.org/spark/spark-3.1.2/spark-3.1.2-bin-hadoop3.2.tgz\n",
        "\n",
        "# Unzip file\n",
        "!tar -xf spark-3.1.2-bin-hadoop3.2.tgz\n",
        "\n",
        "# Install findspark: Adds Pyspark to sys.path at runtime\n",
        "!pip install -q findspark\n",
        "\n",
        "# Install pyspark\n",
        "!pip install pyspark\n",
        "\n",
        "# Add environmental variables\n",
        "import os\n",
        "os.environ[\"JAVA_HOME\"] = \"/usr/lib/jvm/java-8-openjdk-amd64\"\n",
        "os.environ[\"SPARK_HOME\"] = \"/content/spark-3.1.2-bin-hadoop3.2\"\n",
        "\n",
        "# findspark will locate spark in the system\n",
        "import findspark\n",
        "findspark.init()"
      ],
      "execution_count": null,
      "outputs": [
        {
          "output_type": "stream",
          "text": [
            "\r0% [Working]\r            \rGet:1 http://security.ubuntu.com/ubuntu bionic-security InRelease [88.7 kB]\n",
            "\r0% [Connecting to archive.ubuntu.com] [1 InRelease 0 B/88.7 kB 0%] [Connected t\r0% [Connecting to archive.ubuntu.com] [Waiting for headers] [Connecting to ppa.\r                                                                               \rGet:2 https://cloud.r-project.org/bin/linux/ubuntu bionic-cran40/ InRelease [3,626 B]\n",
            "\r0% [Connecting to archive.ubuntu.com] [Waiting for headers] [Waiting for header\r0% [1 InRelease gpgv 88.7 kB] [Connecting to archive.ubuntu.com] [Waiting for h\r                                                                               \rIgn:3 https://developer.download.nvidia.com/compute/cuda/repos/ubuntu1804/x86_64  InRelease\n",
            "Get:4 http://ppa.launchpad.net/c2d4u.team/c2d4u4.0+/ubuntu bionic InRelease [15.9 kB]\n",
            "Ign:5 https://developer.download.nvidia.com/compute/machine-learning/repos/ubuntu1804/x86_64  InRelease\n",
            "Hit:6 https://developer.download.nvidia.com/compute/cuda/repos/ubuntu1804/x86_64  Release\n",
            "Hit:7 https://developer.download.nvidia.com/compute/machine-learning/repos/ubuntu1804/x86_64  Release\n",
            "Hit:8 http://archive.ubuntu.com/ubuntu bionic InRelease\n",
            "Get:9 http://archive.ubuntu.com/ubuntu bionic-updates InRelease [88.7 kB]\n",
            "Hit:10 http://ppa.launchpad.net/cran/libgit2/ubuntu bionic InRelease\n",
            "Get:11 http://security.ubuntu.com/ubuntu bionic-security/main amd64 Packages [2,294 kB]\n",
            "Hit:12 http://ppa.launchpad.net/deadsnakes/ppa/ubuntu bionic InRelease\n",
            "Get:13 http://archive.ubuntu.com/ubuntu bionic-backports InRelease [74.6 kB]\n",
            "Hit:14 http://ppa.launchpad.net/graphics-drivers/ppa/ubuntu bionic InRelease\n",
            "Get:16 http://security.ubuntu.com/ubuntu bionic-security/universe amd64 Packages [1,424 kB]\n",
            "Get:18 http://security.ubuntu.com/ubuntu bionic-security/restricted amd64 Packages [543 kB]\n",
            "Get:19 http://ppa.launchpad.net/c2d4u.team/c2d4u4.0+/ubuntu bionic/main Sources [1,794 kB]\n",
            "Get:20 http://ppa.launchpad.net/c2d4u.team/c2d4u4.0+/ubuntu bionic/main amd64 Packages [918 kB]\n",
            "Get:21 http://archive.ubuntu.com/ubuntu bionic-updates/restricted amd64 Packages [575 kB]\n",
            "Get:22 http://archive.ubuntu.com/ubuntu bionic-updates/main amd64 Packages [2,730 kB]\n",
            "Get:23 http://archive.ubuntu.com/ubuntu bionic-updates/multiverse amd64 Packages [34.4 kB]\n",
            "Get:24 http://archive.ubuntu.com/ubuntu bionic-updates/universe amd64 Packages [2,199 kB]\n",
            "Fetched 12.8 MB in 3s (3,720 kB/s)\n",
            "Reading package lists... Done\n",
            "Collecting pyspark\n",
            "  Downloading pyspark-3.1.2.tar.gz (212.4 MB)\n",
            "\u001b[K     |████████████████████████████████| 212.4 MB 70 kB/s \n",
            "\u001b[?25hCollecting py4j==0.10.9\n",
            "  Downloading py4j-0.10.9-py2.py3-none-any.whl (198 kB)\n",
            "\u001b[K     |████████████████████████████████| 198 kB 57.5 MB/s \n",
            "\u001b[?25hBuilding wheels for collected packages: pyspark\n",
            "  Building wheel for pyspark (setup.py) ... \u001b[?25l\u001b[?25hdone\n",
            "  Created wheel for pyspark: filename=pyspark-3.1.2-py2.py3-none-any.whl size=212880768 sha256=28d737b3d5cce141253db982dbe19eb6f4fdfcee61d396065b202b90f6a6f531\n",
            "  Stored in directory: /root/.cache/pip/wheels/a5/0a/c1/9561f6fecb759579a7d863dcd846daaa95f598744e71b02c77\n",
            "Successfully built pyspark\n",
            "Installing collected packages: py4j, pyspark\n",
            "Successfully installed py4j-0.10.9 pyspark-3.1.2\n"
          ],
          "name": "stdout"
        }
      ]
    },
    {
      "cell_type": "code",
      "metadata": {
        "id": "aG8edgMh9QrF"
      },
      "source": [
        "from pyspark.sql import SparkSession\n",
        "\n",
        "spark = SparkSession.builder \\\n",
        "        .master(\"local\") \\\n",
        "        .appName(\"Hands-on PySpark on Google Colab\") \\\n",
        "        .getOrCreate()"
      ],
      "execution_count": null,
      "outputs": []
    },
    {
      "cell_type": "markdown",
      "metadata": {
        "id": "U9UtQYv-81jJ"
      },
      "source": [
        "Mount to GDrive"
      ]
    },
    {
      "cell_type": "code",
      "metadata": {
        "colab": {
          "base_uri": "https://localhost:8080/"
        },
        "id": "0p0t-VWo88tF",
        "outputId": "8124a970-cf92-434e-9ce8-7fdb5c0b6145"
      },
      "source": [
        "from google.colab import drive\n",
        "drive.mount('/drive',force_remount=True)"
      ],
      "execution_count": null,
      "outputs": [
        {
          "output_type": "stream",
          "text": [
            "Mounted at /drive\n"
          ],
          "name": "stdout"
        }
      ]
    },
    {
      "cell_type": "markdown",
      "metadata": {
        "id": "R9x9btVLmz5j"
      },
      "source": [
        "#### Load the Walmart Stock CSV File, have Spark infer the data types."
      ]
    },
    {
      "cell_type": "code",
      "metadata": {
        "collapsed": true,
        "id": "lFztzOaTmz5k"
      },
      "source": [
        "filepath = \"/drive/MyDrive/Iykra/PySpark/Practice Case/Task 1/walmart_stock.csv\"\n",
        "spark_df = spark.read.format('csv').options(header='true', inferSchema='true').load(filepath)"
      ],
      "execution_count": null,
      "outputs": []
    },
    {
      "cell_type": "markdown",
      "metadata": {
        "id": "sRCqkTd6mz5l"
      },
      "source": [
        "#### What are the column names?"
      ]
    },
    {
      "cell_type": "code",
      "metadata": {
        "id": "wrZequeOm6Qg",
        "colab": {
          "base_uri": "https://localhost:8080/"
        },
        "outputId": "93c24012-1767-40c3-b1a7-35c96d2e5efc"
      },
      "source": [
        "print(spark_df.columns)"
      ],
      "execution_count": null,
      "outputs": [
        {
          "output_type": "stream",
          "text": [
            "['Date', 'Open', 'High', 'Low', 'Close', 'Volume', 'Adj Close']\n"
          ],
          "name": "stdout"
        }
      ]
    },
    {
      "cell_type": "markdown",
      "metadata": {
        "id": "OjdeHvmSmz5n"
      },
      "source": [
        "#### What does the Schema look like?"
      ]
    },
    {
      "cell_type": "code",
      "metadata": {
        "id": "aBhwjX4rm73Z",
        "colab": {
          "base_uri": "https://localhost:8080/"
        },
        "outputId": "b3cbde64-8fc3-47d7-c5a2-87b4db0fe7ca"
      },
      "source": [
        "spark_df.printSchema()"
      ],
      "execution_count": null,
      "outputs": [
        {
          "output_type": "stream",
          "text": [
            "root\n",
            " |-- Date: string (nullable = true)\n",
            " |-- Open: double (nullable = true)\n",
            " |-- High: double (nullable = true)\n",
            " |-- Low: double (nullable = true)\n",
            " |-- Close: double (nullable = true)\n",
            " |-- Volume: integer (nullable = true)\n",
            " |-- Adj Close: double (nullable = true)\n",
            "\n"
          ],
          "name": "stdout"
        }
      ]
    },
    {
      "cell_type": "markdown",
      "metadata": {
        "id": "4j__pGtKmz5o"
      },
      "source": [
        "#### Print out the first 5 columns."
      ]
    },
    {
      "cell_type": "code",
      "metadata": {
        "id": "3rxnNIl3m9Nb",
        "colab": {
          "base_uri": "https://localhost:8080/"
        },
        "outputId": "6b10d66c-f631-45e0-984a-a6eaf1551270"
      },
      "source": [
        "spark_df.show(5, truncate=False)"
      ],
      "execution_count": null,
      "outputs": [
        {
          "output_type": "stream",
          "text": [
            "+----------+------------------+---------+---------+------------------+--------+------------------+\n",
            "|Date      |Open              |High     |Low      |Close             |Volume  |Adj Close         |\n",
            "+----------+------------------+---------+---------+------------------+--------+------------------+\n",
            "|2012-01-03|59.970001         |61.060001|59.869999|60.330002         |12668800|52.619234999999996|\n",
            "|2012-01-04|60.209998999999996|60.349998|59.470001|59.709998999999996|9593300 |52.078475         |\n",
            "|2012-01-05|59.349998         |59.619999|58.369999|59.419998         |12768200|51.825539         |\n",
            "|2012-01-06|59.419998         |59.450001|58.869999|59.0              |8069400 |51.45922          |\n",
            "|2012-01-09|59.029999         |59.549999|58.919998|59.18             |6679300 |51.616215000000004|\n",
            "+----------+------------------+---------+---------+------------------+--------+------------------+\n",
            "only showing top 5 rows\n",
            "\n"
          ],
          "name": "stdout"
        }
      ]
    },
    {
      "cell_type": "markdown",
      "metadata": {
        "id": "ThU0gi9_mz5p"
      },
      "source": [
        "#### Use describe() to learn about the DataFrame."
      ]
    },
    {
      "cell_type": "code",
      "metadata": {
        "id": "jGKN3qamm_vF",
        "colab": {
          "base_uri": "https://localhost:8080/"
        },
        "outputId": "2b2cf046-bcc6-41f9-dd87-48b8e41bd445"
      },
      "source": [
        "spark_df.describe().show()"
      ],
      "execution_count": null,
      "outputs": [
        {
          "output_type": "stream",
          "text": [
            "+-------+----------+------------------+-----------------+-----------------+-----------------+-----------------+-----------------+\n",
            "|summary|      Date|              Open|             High|              Low|            Close|           Volume|        Adj Close|\n",
            "+-------+----------+------------------+-----------------+-----------------+-----------------+-----------------+-----------------+\n",
            "|  count|      1258|              1258|             1258|             1258|             1258|             1258|             1258|\n",
            "|   mean|      null| 72.35785375357709|72.83938807631165| 71.9186009594594|72.38844998012726|8222093.481717011|67.23883848728146|\n",
            "| stddev|      null|  6.76809024470826|6.768186808159218|6.744075756255496|6.756859163732991|  4519780.8431556|6.722609449996857|\n",
            "|    min|2012-01-03|56.389998999999996|        57.060001|        56.299999|        56.419998|          2094900|        50.363689|\n",
            "|    max|2016-12-30|         90.800003|        90.970001|            89.25|        90.470001|         80898100|84.91421600000001|\n",
            "+-------+----------+------------------+-----------------+-----------------+-----------------+-----------------+-----------------+\n",
            "\n"
          ],
          "name": "stdout"
        }
      ]
    },
    {
      "cell_type": "markdown",
      "metadata": {
        "id": "S_MjIMLymz5q"
      },
      "source": [
        "## Bonus Question!\n",
        "#### There are too many decimal places for mean and stddev in the describe() dataframe. Format the numbers to just show up to two decimal places. Pay careful attention to the datatypes that .describe() returns, we didn't cover how to do this exact formatting, but we covered something very similar.\n",
        "\n",
        "If you get stuck on this, don't worry, just find the way :)"
      ]
    },
    {
      "cell_type": "code",
      "metadata": {
        "collapsed": true,
        "id": "CoOskgYVmz5r"
      },
      "source": [
        "#Libraries\n",
        "from pyspark.sql import functions as F\n",
        "from pyspark.sql.functions import round, col\n",
        "from pyspark.sql import types\n",
        "from pyspark.sql.types import DoubleType"
      ],
      "execution_count": null,
      "outputs": []
    },
    {
      "cell_type": "code",
      "metadata": {
        "colab": {
          "base_uri": "https://localhost:8080/"
        },
        "id": "p_Mwkl0aZf_t",
        "outputId": "f9af1a8a-4ef7-41cc-feb7-9086637ea556"
      },
      "source": [
        "describe= spark_df.describe()\n",
        "describe.printSchema()"
      ],
      "execution_count": null,
      "outputs": [
        {
          "output_type": "stream",
          "text": [
            "root\n",
            " |-- summary: string (nullable = true)\n",
            " |-- Date: string (nullable = true)\n",
            " |-- Open: string (nullable = true)\n",
            " |-- High: string (nullable = true)\n",
            " |-- Low: string (nullable = true)\n",
            " |-- Close: string (nullable = true)\n",
            " |-- Volume: string (nullable = true)\n",
            " |-- Adj Close: string (nullable = true)\n",
            "\n"
          ],
          "name": "stdout"
        }
      ]
    },
    {
      "cell_type": "code",
      "metadata": {
        "id": "pvkn-06PoCuw"
      },
      "source": [
        "#Since the describe dataframe contains string value, we should convert the datatype from string to double\n",
        "changedTypedf = describe.withColumn(\"Date\", describe[\"Date\"].cast(DoubleType()))\n",
        "changedTypedf = describe.withColumn(\"Open\", describe[\"Open\"].cast(DoubleType()))\n",
        "changedTypedf = describe.withColumn(\"High\", describe[\"High\"].cast(DoubleType()))\n",
        "changedTypedf = describe.withColumn(\"Low\", describe[\"Low\"].cast(DoubleType()))\n",
        "changedTypedf = describe.withColumn(\"Close\", describe[\"Close\"].cast(DoubleType()))\n",
        "changedTypedf = describe.withColumn(\"Volume\", describe[\"Volume\"].cast(DoubleType()))\n",
        "changedTypedf = describe.withColumn(\"Adj Close\", describe[\"Adj Close\"].cast(DoubleType()))"
      ],
      "execution_count": null,
      "outputs": []
    },
    {
      "cell_type": "code",
      "metadata": {
        "colab": {
          "base_uri": "https://localhost:8080/"
        },
        "id": "YuGeTW5Qdqhr",
        "outputId": "937e89e5-93cd-466f-acc6-f750504280b2"
      },
      "source": [
        "changedTypedf.show(5, truncate=False)"
      ],
      "execution_count": null,
      "outputs": [
        {
          "output_type": "stream",
          "text": [
            "+-------+----------+------------------+-----------------+-----------------+-----------------+-----------------+-----------------+\n",
            "|summary|Date      |Open              |High             |Low              |Close            |Volume           |Adj Close        |\n",
            "+-------+----------+------------------+-----------------+-----------------+-----------------+-----------------+-----------------+\n",
            "|count  |1258      |1258              |1258             |1258             |1258             |1258             |1258.0           |\n",
            "|mean   |null      |72.35785375357709 |72.83938807631165|71.9186009594594 |72.38844998012726|8222093.481717011|67.23883848728146|\n",
            "|stddev |null      |6.76809024470826  |6.768186808159218|6.744075756255496|6.756859163732991|4519780.8431556  |6.722609449996857|\n",
            "|min    |2012-01-03|56.389998999999996|57.060001        |56.299999        |56.419998        |2094900          |50.363689        |\n",
            "|max    |2016-12-30|90.800003         |90.970001        |89.25            |90.470001        |80898100         |84.91421600000001|\n",
            "+-------+----------+------------------+-----------------+-----------------+-----------------+-----------------+-----------------+\n",
            "\n"
          ],
          "name": "stdout"
        }
      ]
    },
    {
      "cell_type": "code",
      "metadata": {
        "colab": {
          "base_uri": "https://localhost:8080/"
        },
        "id": "YawT2idxd4oG",
        "outputId": "ae2c0ffb-dd9c-42a0-f56b-5f5bc1a8a91d"
      },
      "source": [
        "df3 = changedTypedf.withColumn(\"Open\", F.round(changedTypedf[\"Open\"], 2))\n",
        "df3 = df3.withColumn(\"High\", F.round(df3[\"High\"], 2))\n",
        "df3 = df3.withColumn(\"Low\", F.round(df3[\"Low\"], 2))\n",
        "df3 = df3.withColumn(\"Close\", F.round(df3[\"Close\"], 2))\n",
        "df3 = df3.withColumn(\"Volume\", F.round(df3[\"Volume\"], 2))\n",
        "df3 = df3.withColumn(\"Adj Close\", F.round(df3[\"Adj Close\"], 2))\n",
        "df3.show()"
      ],
      "execution_count": null,
      "outputs": [
        {
          "output_type": "stream",
          "text": [
            "+-------+----------+------+------+------+------+----------+---------+\n",
            "|summary|      Date|  Open|  High|   Low| Close|    Volume|Adj Close|\n",
            "+-------+----------+------+------+------+------+----------+---------+\n",
            "|  count|      1258|1258.0|1258.0|1258.0|1258.0|    1258.0|   1258.0|\n",
            "|   mean|      null| 72.36| 72.84| 71.92| 72.39|8222093.48|    67.24|\n",
            "| stddev|      null|  6.77|  6.77|  6.74|  6.76|4519780.84|     6.72|\n",
            "|    min|2012-01-03| 56.39| 57.06|  56.3| 56.42| 2094900.0|    50.36|\n",
            "|    max|2016-12-30|  90.8| 90.97| 89.25| 90.47| 8.08981E7|    84.91|\n",
            "+-------+----------+------+------+------+------+----------+---------+\n",
            "\n"
          ],
          "name": "stdout"
        }
      ]
    },
    {
      "cell_type": "markdown",
      "metadata": {
        "id": "q_znArTrmz5r"
      },
      "source": [
        "#### Create a new dataframe with a column called HV Ratio that is the ratio of the High Price versus volume of stock traded for a day."
      ]
    },
    {
      "cell_type": "code",
      "metadata": {
        "id": "Fex3CZO8nZi6",
        "colab": {
          "base_uri": "https://localhost:8080/"
        },
        "outputId": "f44c2ee1-a6f6-4636-bde8-1e48ec50343f"
      },
      "source": [
        "#Create new df named spark_df2\n",
        "copy_col=spark_df.columns\n",
        "spark_df2=spark_df.select(copy_col)\n",
        "spark_df2.show(5, truncate=False)"
      ],
      "execution_count": null,
      "outputs": [
        {
          "output_type": "stream",
          "text": [
            "+----------+------------------+---------+---------+------------------+--------+------------------+\n",
            "|Date      |Open              |High     |Low      |Close             |Volume  |Adj Close         |\n",
            "+----------+------------------+---------+---------+------------------+--------+------------------+\n",
            "|2012-01-03|59.970001         |61.060001|59.869999|60.330002         |12668800|52.619234999999996|\n",
            "|2012-01-04|60.209998999999996|60.349998|59.470001|59.709998999999996|9593300 |52.078475         |\n",
            "|2012-01-05|59.349998         |59.619999|58.369999|59.419998         |12768200|51.825539         |\n",
            "|2012-01-06|59.419998         |59.450001|58.869999|59.0              |8069400 |51.45922          |\n",
            "|2012-01-09|59.029999         |59.549999|58.919998|59.18             |6679300 |51.616215000000004|\n",
            "+----------+------------------+---------+---------+------------------+--------+------------------+\n",
            "only showing top 5 rows\n",
            "\n"
          ],
          "name": "stdout"
        }
      ]
    },
    {
      "cell_type": "code",
      "metadata": {
        "id": "shHY54asoqN6",
        "colab": {
          "base_uri": "https://localhost:8080/"
        },
        "outputId": "395c8f6b-113d-435d-b73f-96079ccfc67c"
      },
      "source": [
        "#create HV Ratio column\n",
        "spark_df2.withColumn(\"HV Ratio\", F.col(\"High\")/F.col(\"Volume\")).show(5)"
      ],
      "execution_count": null,
      "outputs": [
        {
          "output_type": "stream",
          "text": [
            "+----------+------------------+---------+---------+------------------+--------+------------------+--------------------+\n",
            "|      Date|              Open|     High|      Low|             Close|  Volume|         Adj Close|            HV Ratio|\n",
            "+----------+------------------+---------+---------+------------------+--------+------------------+--------------------+\n",
            "|2012-01-03|         59.970001|61.060001|59.869999|         60.330002|12668800|52.619234999999996|4.819714653321546E-6|\n",
            "|2012-01-04|60.209998999999996|60.349998|59.470001|59.709998999999996| 9593300|         52.078475|6.290848613094555E-6|\n",
            "|2012-01-05|         59.349998|59.619999|58.369999|         59.419998|12768200|         51.825539|4.669412994783916E-6|\n",
            "|2012-01-06|         59.419998|59.450001|58.869999|              59.0| 8069400|          51.45922|7.367338463826307E-6|\n",
            "|2012-01-09|         59.029999|59.549999|58.919998|             59.18| 6679300|51.616215000000004|8.915604778943901E-6|\n",
            "+----------+------------------+---------+---------+------------------+--------+------------------+--------------------+\n",
            "only showing top 5 rows\n",
            "\n"
          ],
          "name": "stdout"
        }
      ]
    },
    {
      "cell_type": "markdown",
      "metadata": {
        "id": "7EotJ7Zemz5s"
      },
      "source": [
        "#### What day had the Peak High in Price?"
      ]
    },
    {
      "cell_type": "code",
      "metadata": {
        "id": "t_icEqRenbDf",
        "colab": {
          "base_uri": "https://localhost:8080/"
        },
        "outputId": "3612ef0e-3eb4-4b70-e230-a87d725972ab"
      },
      "source": [
        "#Peak High Price: max High value\n",
        "print(\"Peak (Max) High Value in Price:\")\n",
        "spark_df.groupby().max('High').show()\n",
        "\n",
        "print(\"Day with Peak High:\")\n",
        "spark_df.select('Date').filter(F.col('High')==90.970001).show()"
      ],
      "execution_count": null,
      "outputs": [
        {
          "output_type": "stream",
          "text": [
            "Peak (Max) High Value in Price:\n",
            "+---------+\n",
            "|max(High)|\n",
            "+---------+\n",
            "|90.970001|\n",
            "+---------+\n",
            "\n",
            "Day with Peak High:\n",
            "+----------+\n",
            "|      Date|\n",
            "+----------+\n",
            "|2015-01-13|\n",
            "+----------+\n",
            "\n"
          ],
          "name": "stdout"
        }
      ]
    },
    {
      "cell_type": "markdown",
      "metadata": {
        "id": "4G7qHaTtmz5s"
      },
      "source": [
        "#### What is the mean of the Close column?"
      ]
    },
    {
      "cell_type": "code",
      "metadata": {
        "id": "oU-C_y4RncZl",
        "colab": {
          "base_uri": "https://localhost:8080/"
        },
        "outputId": "85cf9f80-1e01-4017-8db0-360844bbd1ef"
      },
      "source": [
        "spark_df.groupBy().mean('Close').show()"
      ],
      "execution_count": null,
      "outputs": [
        {
          "output_type": "stream",
          "text": [
            "+-----------------+\n",
            "|       avg(Close)|\n",
            "+-----------------+\n",
            "|72.38844998012726|\n",
            "+-----------------+\n",
            "\n"
          ],
          "name": "stdout"
        }
      ]
    },
    {
      "cell_type": "markdown",
      "metadata": {
        "id": "8a-qnQUrmz5t"
      },
      "source": [
        "#### What is the max and min of the Volume column?"
      ]
    },
    {
      "cell_type": "code",
      "metadata": {
        "collapsed": true,
        "id": "ivZW6yGfmz5t",
        "colab": {
          "base_uri": "https://localhost:8080/"
        },
        "outputId": "783006be-3cb6-4472-b716-efd793cd5a6a"
      },
      "source": [
        "#maximum\n",
        "spark_df.groupBy().max('Volume').show()"
      ],
      "execution_count": null,
      "outputs": [
        {
          "output_type": "stream",
          "text": [
            "+-----------+\n",
            "|max(Volume)|\n",
            "+-----------+\n",
            "|   80898100|\n",
            "+-----------+\n",
            "\n"
          ],
          "name": "stdout"
        }
      ]
    },
    {
      "cell_type": "code",
      "metadata": {
        "colab": {
          "base_uri": "https://localhost:8080/"
        },
        "id": "_22gBFZqr02B",
        "outputId": "e822ee2f-3d15-4290-a1ae-d3016c0a7ba6"
      },
      "source": [
        "#minimum\n",
        "spark_df.groupBy().min('Volume').show()"
      ],
      "execution_count": null,
      "outputs": [
        {
          "output_type": "stream",
          "text": [
            "+-----------+\n",
            "|min(Volume)|\n",
            "+-----------+\n",
            "|    2094900|\n",
            "+-----------+\n",
            "\n"
          ],
          "name": "stdout"
        }
      ]
    },
    {
      "cell_type": "markdown",
      "metadata": {
        "id": "qkuVZaVImz5u"
      },
      "source": [
        "#### How many days was the Close lower than 60 dollars?"
      ]
    },
    {
      "cell_type": "code",
      "metadata": {
        "id": "xjZFJh1znewH",
        "colab": {
          "base_uri": "https://localhost:8080/"
        },
        "outputId": "958466cc-b0b1-48ef-e3fe-a4217245e98d"
      },
      "source": [
        "spark_df.filter(F.col(\"Close\") < 60).count()"
      ],
      "execution_count": null,
      "outputs": [
        {
          "output_type": "execute_result",
          "data": {
            "text/plain": [
              "81"
            ]
          },
          "metadata": {},
          "execution_count": 21
        }
      ]
    },
    {
      "cell_type": "markdown",
      "metadata": {
        "id": "Wyfk6QQ4mz5u"
      },
      "source": [
        "#### What percentage of the time was the High greater than 80 dollars ?\n",
        "#### In other words, (Number of Days High>80)/(Total Days in the dataset)"
      ]
    },
    {
      "cell_type": "code",
      "metadata": {
        "id": "zjQaozJgngLY",
        "colab": {
          "base_uri": "https://localhost:8080/"
        },
        "outputId": "aded406b-fedb-465e-acf5-148b72801cd4"
      },
      "source": [
        "(spark_df.filter(F.col(\"High\") > 80).count())/(spark_df.count())*100"
      ],
      "execution_count": null,
      "outputs": [
        {
          "output_type": "execute_result",
          "data": {
            "text/plain": [
              "9.141494435612083"
            ]
          },
          "metadata": {},
          "execution_count": 22
        }
      ]
    },
    {
      "cell_type": "markdown",
      "metadata": {
        "id": "eLmPYY2Lmz5u"
      },
      "source": [
        "#### What is the Pearson correlation between High and Volume?"
      ]
    },
    {
      "cell_type": "code",
      "metadata": {
        "id": "aANGJgySnlN0",
        "colab": {
          "base_uri": "https://localhost:8080/"
        },
        "outputId": "02a049be-a285-42d9-cf50-3108dd46ad45"
      },
      "source": [
        "spark_df.corr('High', 'Volume')"
      ],
      "execution_count": null,
      "outputs": [
        {
          "output_type": "execute_result",
          "data": {
            "text/plain": [
              "-0.3384326061737161"
            ]
          },
          "metadata": {},
          "execution_count": 23
        }
      ]
    },
    {
      "cell_type": "markdown",
      "metadata": {
        "id": "T8jCDqTWNZNx"
      },
      "source": [
        "Based on the correlation value, it means that High is inversely proportional to Volume, but High and Volume variable aren't strongly correlated."
      ]
    },
    {
      "cell_type": "markdown",
      "metadata": {
        "id": "Fyc2Tbkbmz5v"
      },
      "source": [
        "#### What is the max High per year?"
      ]
    },
    {
      "cell_type": "code",
      "metadata": {
        "id": "ka59BOW1nmb8",
        "colab": {
          "base_uri": "https://localhost:8080/"
        },
        "outputId": "22fe827f-8129-4c9d-bac8-c93f54ba74d5"
      },
      "source": [
        "spark_df.groupby(F.year('Date')).max('High').show()"
      ],
      "execution_count": null,
      "outputs": [
        {
          "output_type": "stream",
          "text": [
            "+----------+---------+\n",
            "|year(Date)|max(High)|\n",
            "+----------+---------+\n",
            "|      2015|90.970001|\n",
            "|      2013|81.370003|\n",
            "|      2014|88.089996|\n",
            "|      2012|77.599998|\n",
            "|      2016|75.190002|\n",
            "+----------+---------+\n",
            "\n"
          ],
          "name": "stdout"
        }
      ]
    },
    {
      "cell_type": "markdown",
      "metadata": {
        "id": "6WxgjAuFmz5v"
      },
      "source": [
        "#### What is the average Close for each Calendar Month?\n",
        "#### In other words, across all the years, what is the average Close price for Jan,Feb, Mar, etc... Your result will have a value for each of these months. "
      ]
    },
    {
      "cell_type": "code",
      "metadata": {
        "id": "aMyQwoEznrKT",
        "colab": {
          "base_uri": "https://localhost:8080/"
        },
        "outputId": "39b42c64-8228-47bb-efe8-51822edac969"
      },
      "source": [
        "spark_df.groupby(F.month('Date')).mean('Close').show()"
      ],
      "execution_count": null,
      "outputs": [
        {
          "output_type": "stream",
          "text": [
            "+-----------+-----------------+\n",
            "|month(Date)|       avg(Close)|\n",
            "+-----------+-----------------+\n",
            "|         12|72.84792478301885|\n",
            "|          1|71.44801958415842|\n",
            "|          6| 72.4953774245283|\n",
            "|          3|71.77794377570092|\n",
            "|          5|72.30971688679247|\n",
            "|          9|72.18411785294116|\n",
            "|          4|72.97361900952382|\n",
            "|          8|73.02981855454546|\n",
            "|          7|74.43971943925233|\n",
            "|         10|71.57854545454543|\n",
            "|         11| 72.1110893069307|\n",
            "|          2|  71.306804443299|\n",
            "+-----------+-----------------+\n",
            "\n"
          ],
          "name": "stdout"
        }
      ]
    },
    {
      "cell_type": "markdown",
      "metadata": {
        "id": "bEFhk7Fvmz5v"
      },
      "source": [
        "# Great Job!"
      ]
    },
    {
      "cell_type": "markdown",
      "metadata": {
        "id": "9n0RNfBoaML7"
      },
      "source": [
        "### Additional: Check day of week for each transaction to make sure if the transactions just happened in weekdays"
      ]
    },
    {
      "cell_type": "code",
      "metadata": {
        "colab": {
          "base_uri": "https://localhost:8080/"
        },
        "id": "S0R4l2WHRT2q",
        "outputId": "b40ef5c2-6b3d-49b3-a3ab-b15d89c7260e"
      },
      "source": [
        "from pyspark.sql.functions import dayofweek\n",
        "spark_df3=spark_df.withColumn(\"day_of_week\",dayofweek(spark_df.Date))\n",
        "spark_df3.show()"
      ],
      "execution_count": null,
      "outputs": [
        {
          "output_type": "stream",
          "text": [
            "+----------+------------------+------------------+------------------+------------------+--------+------------------+-----------+\n",
            "|      Date|              Open|              High|               Low|             Close|  Volume|         Adj Close|day_of_week|\n",
            "+----------+------------------+------------------+------------------+------------------+--------+------------------+-----------+\n",
            "|2012-01-03|         59.970001|         61.060001|         59.869999|         60.330002|12668800|52.619234999999996|          3|\n",
            "|2012-01-04|60.209998999999996|         60.349998|         59.470001|59.709998999999996| 9593300|         52.078475|          4|\n",
            "|2012-01-05|         59.349998|         59.619999|         58.369999|         59.419998|12768200|         51.825539|          5|\n",
            "|2012-01-06|         59.419998|         59.450001|         58.869999|              59.0| 8069400|          51.45922|          6|\n",
            "|2012-01-09|         59.029999|         59.549999|         58.919998|             59.18| 6679300|51.616215000000004|          2|\n",
            "|2012-01-10|             59.43|59.709998999999996|             58.98|59.040001000000004| 6907300|         51.494109|          3|\n",
            "|2012-01-11|         59.060001|         59.529999|59.040001000000004|         59.400002| 6365600|         51.808098|          4|\n",
            "|2012-01-12|59.790001000000004|              60.0|         59.400002|              59.5| 7236400|51.895315999999994|          5|\n",
            "|2012-01-13|             59.18|59.610001000000004|59.009997999999996|59.540001000000004| 7729300|51.930203999999996|          6|\n",
            "|2012-01-17|         59.869999|60.110001000000004|             59.52|         59.849998| 8500000|         52.200581|          3|\n",
            "|2012-01-18|59.790001000000004|         60.029999|         59.650002|60.009997999999996| 5911400|         52.340131|          4|\n",
            "|2012-01-19|             59.93|             60.73|             59.75|60.610001000000004| 9234600|         52.863447|          5|\n",
            "|2012-01-20|             60.75|             61.25|         60.669998|61.009997999999996|10378800|53.212320999999996|          6|\n",
            "|2012-01-23|         60.810001|             60.98|60.509997999999996|             60.91| 7134100|         53.125104|          2|\n",
            "|2012-01-24|             60.75|              62.0|             60.75|61.389998999999996| 7362800| 53.54375400000001|          3|\n",
            "|2012-01-25|             61.18|61.610001000000004|61.040001000000004|         61.470001| 5915800| 53.61353100000001|          4|\n",
            "|2012-01-26|         61.799999|             61.84|             60.77|         60.970001| 7436200|         53.177436|          5|\n",
            "|2012-01-27|60.860001000000004|         61.119999|60.540001000000004|60.709998999999996| 6287300|         52.950665|          6|\n",
            "|2012-01-30|         60.470001|             61.32|         60.349998|         61.299999| 7636900|53.465256999999994|          2|\n",
            "|2012-01-31|         61.529999|             61.57|         60.580002|61.360001000000004| 9761500|53.517590000000006|          3|\n",
            "+----------+------------------+------------------+------------------+------------------+--------+------------------+-----------+\n",
            "only showing top 20 rows\n",
            "\n"
          ],
          "name": "stdout"
        }
      ]
    },
    {
      "cell_type": "code",
      "metadata": {
        "colab": {
          "base_uri": "https://localhost:8080/"
        },
        "id": "20bBdp8YYRzy",
        "outputId": "46529eec-fd9d-464b-a76c-b7df53f98f31"
      },
      "source": [
        "spark_df3.groupby('day_of_week').count().show()\n",
        "#day_of_week between 2 to 6: all transactions only happened in Monday to Friday"
      ],
      "execution_count": null,
      "outputs": [
        {
          "output_type": "stream",
          "text": [
            "+-----------+-----+\n",
            "|day_of_week|count|\n",
            "+-----------+-----+\n",
            "|          6|  252|\n",
            "|          3|  258|\n",
            "|          5|  253|\n",
            "|          4|  258|\n",
            "|          2|  237|\n",
            "+-----------+-----+\n",
            "\n"
          ],
          "name": "stdout"
        }
      ]
    }
  ]
}